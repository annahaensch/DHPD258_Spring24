{
 "cells": [
  {
   "cell_type": "markdown",
   "metadata": {},
   "source": [
    "# Getting and Cleaning Data\n",
    "\n",
    "Your goal in these exercises is to demonstrate an ability to work with variables, boolean statements, for loops, and basic dataframe manipulations. "
   ]
  },
  {
   "cell_type": "code",
   "execution_count": null,
   "metadata": {
    "id": "vdoZX-2Ss4U_"
   },
   "outputs": [],
   "source": [
    "import pandas as pd\n",
    "import numpy as np"
   ]
  },
  {
   "cell_type": "markdown",
   "metadata": {
    "id": "ZIxIHsCovU-K"
   },
   "source": [
    "#### Some Python Basics\n",
    "\n",
    "1. Define a variable, `L`, to to be the list consisting of all the letters in your fist name. _hint: remember that letters are strings._\n"
   ]
  },
  {
   "cell_type": "code",
   "execution_count": null,
   "metadata": {
    "id": "2WUdwbKcvTpG"
   },
   "outputs": [],
   "source": []
  },
  {
   "cell_type": "markdown",
   "metadata": {
    "id": "lZWQOW1poir0"
   },
   "source": [
    "2. Using a `for` loop, print each of the letters in `L` on a separate line. _hint: the output of this cell should look like your name written vertically._"
   ]
  },
  {
   "cell_type": "code",
   "execution_count": null,
   "metadata": {
    "id": "1kz5D_Hxoje1"
   },
   "outputs": [],
   "source": []
  },
  {
   "cell_type": "markdown",
   "metadata": {
    "id": "_0x-r4ZTp1jB"
   },
   "source": [
    "3. Using the double equal sign (i.e. `==`) and your list, `L`, write a statement that returns `False`."
   ]
  },
  {
   "cell_type": "code",
   "execution_count": null,
   "metadata": {
    "id": "6kD7jNcMo4F-"
   },
   "outputs": [],
   "source": []
  },
  {
   "cell_type": "markdown",
   "metadata": {
    "id": "m1hwTyffp795"
   },
   "source": [
    "4. Change the statement above so that it returns `True`."
   ]
  },
  {
   "cell_type": "code",
   "execution_count": null,
   "metadata": {
    "id": "TrwEiZQOp8Kh"
   },
   "outputs": [],
   "source": []
  },
  {
   "cell_type": "markdown",
   "metadata": {
    "id": "AXI7cD0HsMXN"
   },
   "source": [
    "#### Some Pandas Basics\n",
    "\n",
    "For this section we're going to work with data from the 2020 Police-Public Contact Survey (PPCS).  This is a survey that's administed by the DOJ and the Bureau of Justice Statistics to document the nature and characterstics of face-to-face contact between the police and the public.  You can read more about he PPCS here: [https://bjs.ojp.gov/data-collection/police-public-contact-survey-ppcs](https://bjs.ojp.gov/data-collection/police-public-contact-survey-ppcs).\n",
    "\n",
    "For this assignment, the relevant data and the associated codebook are stored in the Problem_Set_1 folder. You'll need to consult the codebook for this assignment. Execute the cell below to read in the dataframe from the csv file. "
   ]
  },
  {
   "cell_type": "code",
   "execution_count": null,
   "metadata": {},
   "outputs": [],
   "source": [
    "data = pd.read_csv(\"Data.csv\", index_col = 0, low_memory=False) # Load the data\n",
    "data[\"SCRMCTRL\"] = data[\"SCRMCTRL\"].astype(\"string\") # Fix the datatype in the first columns\n",
    "data.head()"
   ]
  },
  {
   "cell_type": "markdown",
   "metadata": {},
   "source": [
    "When data is coded as \"out of universe\" (usually coded as `9` or `99`) that means it doesn't apply to the case in question. For example, V23T asks:\n",
    "> Have you been pulled over by the police while driving a motor vehicle, NOT including any driving violations captured by camera and ticketed by mail? \n",
    "\n",
    "If the respondent answered \"no\" to this question, then the follow-up question V23U \n",
    "> How many times did this happen during the past 12 months?\n",
    "\n",
    "is coded as \"out of universe.\"  The following questions will be based on the PPCCS data and codebook.\n",
    "\n",
    "5. How many records are included in the PPCS?  If you obtain this number from the codebook, verify that the number of records indicated by the codebook match the number of records in `data` by getting the number of rows."
   ]
  },
  {
   "cell_type": "code",
   "execution_count": null,
   "metadata": {},
   "outputs": [],
   "source": []
  },
  {
   "cell_type": "markdown",
   "metadata": {},
   "source": [
    "6. How many unique households are included in the PPCS?"
   ]
  },
  {
   "cell_type": "code",
   "execution_count": null,
   "metadata": {
    "id": "p-INRMsBsLne"
   },
   "outputs": [],
   "source": []
  },
  {
   "cell_type": "markdown",
   "metadata": {},
   "source": [
    "7. The column \"INTTYPE\" gives the type of interview for each record.  Recall from our readings on _Data Diplomacy_ that there are many reasons that communities/individuals can feel compelled to participate in data collection or not. Find the number of records marked as \"PPCS Noninterview\". Exploring the data, can you see any systematic bias in terms of who was not interviewed and why?  Can you think of other reasons that individuals or households might have chosen not to respond?"
   ]
  },
  {
   "cell_type": "code",
   "execution_count": null,
   "metadata": {},
   "outputs": [],
   "source": []
  },
  {
   "cell_type": "markdown",
   "metadata": {},
   "source": [
    "8. Define a new dataframe, call it `data_male`, which is a slice of the original dataframe where respondents are coded as Male. "
   ]
  },
  {
   "cell_type": "code",
   "execution_count": null,
   "metadata": {},
   "outputs": [],
   "source": []
  },
  {
   "cell_type": "markdown",
   "metadata": {},
   "source": [
    "9. Using `data_male` and the `value_counts()` function, determine how many male repondents were stopped 3 or more times by police but not in a moving vehicle in the last 12 months.  _hint: this corresponds to item V24A in the codebook._"
   ]
  },
  {
   "cell_type": "code",
   "execution_count": null,
   "metadata": {},
   "outputs": [],
   "source": []
  },
  {
   "cell_type": "markdown",
   "metadata": {
    "id": "rguR7SBM26JE"
   },
   "source": [
    "10. Recall from our reading of _Data Feminism_ that \"what gets counted counts.\" Based on what you see in this data, and based on what you can read in the codebook and supplementary materials, are there any populations that you think aren't being represented in this survey?  Why do you think that's happening?  What do you think could be done differently to make sure these populations are represented?"
   ]
  },
  {
   "cell_type": "code",
   "execution_count": null,
   "metadata": {},
   "outputs": [],
   "source": []
  }
 ],
 "metadata": {
  "colab": {
   "provenance": [
    {
     "file_id": "1CAP_k6HF88O-19wngS_5x2KN7Sfiwypo",
     "timestamp": 1674507068138
    }
   ]
  },
  "kernelspec": {
   "display_name": "Python 3 (ipykernel)",
   "language": "python",
   "name": "python3"
  },
  "language_info": {
   "codemirror_mode": {
    "name": "ipython",
    "version": 3
   },
   "file_extension": ".py",
   "mimetype": "text/x-python",
   "name": "python",
   "nbconvert_exporter": "python",
   "pygments_lexer": "ipython3",
   "version": "3.10.9"
  }
 },
 "nbformat": 4,
 "nbformat_minor": 1
}
