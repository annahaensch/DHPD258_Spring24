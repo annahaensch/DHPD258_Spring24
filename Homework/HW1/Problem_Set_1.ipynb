{
 "cells": [
  {
   "cell_type": "markdown",
   "metadata": {},
   "source": [
    "# Getting and Cleaning Data\n",
    "\n",
    "Your goal in these exercises is to demonstrate an ability to work with variables, boolean statements, for loops, and basic dataframe manipulations. "
   ]
  },
  {
   "cell_type": "code",
   "execution_count": 2,
   "metadata": {
    "id": "vdoZX-2Ss4U_"
   },
   "outputs": [],
   "source": [
    "import pandas as pd\n",
    "import numpy as np"
   ]
  },
  {
   "cell_type": "markdown",
   "metadata": {
    "id": "ZIxIHsCovU-K"
   },
   "source": [
    "#### Some Python Basics\n",
    "\n",
    "1. Define a variable, `L`, to to be the list consisting of all the letters in your fist name. _hint: remember that letters are strings._\n"
   ]
  },
  {
   "cell_type": "code",
   "execution_count": null,
   "metadata": {
    "id": "2WUdwbKcvTpG"
   },
   "outputs": [],
   "source": []
  },
  {
   "cell_type": "markdown",
   "metadata": {
    "id": "lZWQOW1poir0"
   },
   "source": [
    "2. Using a `for` loop, print each of the letters in `L` on a separate line. _hint: the output of this cell should look like your name written vertically._"
   ]
  },
  {
   "cell_type": "code",
   "execution_count": null,
   "metadata": {
    "id": "1kz5D_Hxoje1"
   },
   "outputs": [],
   "source": []
  },
  {
   "cell_type": "markdown",
   "metadata": {
    "id": "_0x-r4ZTp1jB"
   },
   "source": [
    "3. Using the double equal sign (i.e. `==`) and your list, `L`, write a statement that returns `False`."
   ]
  },
  {
   "cell_type": "code",
   "execution_count": null,
   "metadata": {
    "id": "6kD7jNcMo4F-"
   },
   "outputs": [],
   "source": []
  },
  {
   "cell_type": "markdown",
   "metadata": {
    "id": "m1hwTyffp795"
   },
   "source": [
    "4. Change the statement above so that it returns `True`."
   ]
  },
  {
   "cell_type": "code",
   "execution_count": null,
   "metadata": {
    "id": "TrwEiZQOp8Kh"
   },
   "outputs": [],
   "source": []
  },
  {
   "cell_type": "markdown",
   "metadata": {
    "id": "AXI7cD0HsMXN"
   },
   "source": [
    "#### Some Pandas Basics\n",
    "\n",
    "For this section we're going to work with data from the 2020 Police-Public Contact Survey (PPCS).  This is a survey that's administed by the DOJ and the Bureau of Justice Statistics to document the nature and characterstics of face-to-face contact between the police and the public.  You can read more about he PPCS here: [https://bjs.ojp.gov/data-collection/police-public-contact-survey-ppcs](https://bjs.ojp.gov/data-collection/police-public-contact-survey-ppcs).\n",
    "\n",
    "For this assignment, the relevant data and the associated codebook are stored in the HW1 folder. You'll need to consult the codebook for this assignment. Execute the cell below to read in the dataframe from the csv file. "
   ]
  },
  {
   "cell_type": "code",
   "execution_count": 148,
   "metadata": {},
   "outputs": [
    {
     "data": {
      "text/html": [
       "<div>\n",
       "<style scoped>\n",
       "    .dataframe tbody tr th:only-of-type {\n",
       "        vertical-align: middle;\n",
       "    }\n",
       "\n",
       "    .dataframe tbody tr th {\n",
       "        vertical-align: top;\n",
       "    }\n",
       "\n",
       "    .dataframe thead th {\n",
       "        text-align: right;\n",
       "    }\n",
       "</style>\n",
       "<table border=\"1\" class=\"dataframe\">\n",
       "  <thead>\n",
       "    <tr style=\"text-align: right;\">\n",
       "      <th></th>\n",
       "      <th>SCRMCTRL</th>\n",
       "      <th>PPCSWGT</th>\n",
       "      <th>SEQNUM</th>\n",
       "      <th>SEX</th>\n",
       "      <th>AGE</th>\n",
       "      <th>INTTYPE</th>\n",
       "      <th>NONINT</th>\n",
       "      <th>HISP</th>\n",
       "      <th>MODE</th>\n",
       "      <th>PSSTRATA</th>\n",
       "      <th>...</th>\n",
       "      <th>V351B</th>\n",
       "      <th>CHECK_ITEM_K</th>\n",
       "      <th>V352A</th>\n",
       "      <th>V352B</th>\n",
       "      <th>V352C</th>\n",
       "      <th>V352D</th>\n",
       "      <th>V352E</th>\n",
       "      <th>V352F</th>\n",
       "      <th>CHECK_ITEM_L</th>\n",
       "      <th>V353</th>\n",
       "    </tr>\n",
       "  </thead>\n",
       "  <tbody>\n",
       "    <tr>\n",
       "      <th>0</th>\n",
       "      <td>2030002161032563459</td>\n",
       "      <td>915.905846</td>\n",
       "      <td>1</td>\n",
       "      <td>2</td>\n",
       "      <td>3</td>\n",
       "      <td>1</td>\n",
       "      <td>9</td>\n",
       "      <td>1</td>\n",
       "      <td>0</td>\n",
       "      <td>13</td>\n",
       "      <td>...</td>\n",
       "      <td>9</td>\n",
       "      <td>2</td>\n",
       "      <td>9</td>\n",
       "      <td>9</td>\n",
       "      <td>9</td>\n",
       "      <td>9</td>\n",
       "      <td>9</td>\n",
       "      <td>9</td>\n",
       "      <td>2</td>\n",
       "      <td>99</td>\n",
       "    </tr>\n",
       "    <tr>\n",
       "      <th>1</th>\n",
       "      <td>2030002161032563459</td>\n",
       "      <td>2184.699712</td>\n",
       "      <td>2</td>\n",
       "      <td>2</td>\n",
       "      <td>1</td>\n",
       "      <td>1</td>\n",
       "      <td>9</td>\n",
       "      <td>1</td>\n",
       "      <td>0</td>\n",
       "      <td>13</td>\n",
       "      <td>...</td>\n",
       "      <td>9</td>\n",
       "      <td>9</td>\n",
       "      <td>9</td>\n",
       "      <td>9</td>\n",
       "      <td>9</td>\n",
       "      <td>9</td>\n",
       "      <td>9</td>\n",
       "      <td>9</td>\n",
       "      <td>9</td>\n",
       "      <td>99</td>\n",
       "    </tr>\n",
       "    <tr>\n",
       "      <th>2</th>\n",
       "      <td>2030003137747563459</td>\n",
       "      <td>3684.714053</td>\n",
       "      <td>3</td>\n",
       "      <td>2</td>\n",
       "      <td>5</td>\n",
       "      <td>2</td>\n",
       "      <td>9</td>\n",
       "      <td>1</td>\n",
       "      <td>0</td>\n",
       "      <td>52</td>\n",
       "      <td>...</td>\n",
       "      <td>9</td>\n",
       "      <td>9</td>\n",
       "      <td>9</td>\n",
       "      <td>9</td>\n",
       "      <td>9</td>\n",
       "      <td>9</td>\n",
       "      <td>9</td>\n",
       "      <td>9</td>\n",
       "      <td>9</td>\n",
       "      <td>99</td>\n",
       "    </tr>\n",
       "    <tr>\n",
       "      <th>3</th>\n",
       "      <td>2030003137747563459</td>\n",
       "      <td>3262.162995</td>\n",
       "      <td>4</td>\n",
       "      <td>2</td>\n",
       "      <td>4</td>\n",
       "      <td>2</td>\n",
       "      <td>9</td>\n",
       "      <td>1</td>\n",
       "      <td>0</td>\n",
       "      <td>52</td>\n",
       "      <td>...</td>\n",
       "      <td>9</td>\n",
       "      <td>9</td>\n",
       "      <td>9</td>\n",
       "      <td>9</td>\n",
       "      <td>9</td>\n",
       "      <td>9</td>\n",
       "      <td>9</td>\n",
       "      <td>9</td>\n",
       "      <td>9</td>\n",
       "      <td>99</td>\n",
       "    </tr>\n",
       "    <tr>\n",
       "      <th>4</th>\n",
       "      <td>2030018355311563459</td>\n",
       "      <td>4172.011055</td>\n",
       "      <td>5</td>\n",
       "      <td>2</td>\n",
       "      <td>3</td>\n",
       "      <td>2</td>\n",
       "      <td>9</td>\n",
       "      <td>2</td>\n",
       "      <td>0</td>\n",
       "      <td>54</td>\n",
       "      <td>...</td>\n",
       "      <td>9</td>\n",
       "      <td>9</td>\n",
       "      <td>9</td>\n",
       "      <td>9</td>\n",
       "      <td>9</td>\n",
       "      <td>9</td>\n",
       "      <td>9</td>\n",
       "      <td>9</td>\n",
       "      <td>9</td>\n",
       "      <td>99</td>\n",
       "    </tr>\n",
       "  </tbody>\n",
       "</table>\n",
       "<p>5 rows × 281 columns</p>\n",
       "</div>"
      ],
      "text/plain": [
       "              SCRMCTRL      PPCSWGT  SEQNUM  SEX  AGE  INTTYPE  NONINT  HISP  \\\n",
       "0  2030002161032563459   915.905846       1    2    3        1       9     1   \n",
       "1  2030002161032563459  2184.699712       2    2    1        1       9     1   \n",
       "2  2030003137747563459  3684.714053       3    2    5        2       9     1   \n",
       "3  2030003137747563459  3262.162995       4    2    4        2       9     1   \n",
       "4  2030018355311563459  4172.011055       5    2    3        2       9     2   \n",
       "\n",
       "   MODE  PSSTRATA  ...  V351B  CHECK_ITEM_K  V352A  V352B  V352C  V352D  \\\n",
       "0     0        13  ...      9             2      9      9      9      9   \n",
       "1     0        13  ...      9             9      9      9      9      9   \n",
       "2     0        52  ...      9             9      9      9      9      9   \n",
       "3     0        52  ...      9             9      9      9      9      9   \n",
       "4     0        54  ...      9             9      9      9      9      9   \n",
       "\n",
       "   V352E  V352F  CHECK_ITEM_L  V353  \n",
       "0      9      9             2    99  \n",
       "1      9      9             9    99  \n",
       "2      9      9             9    99  \n",
       "3      9      9             9    99  \n",
       "4      9      9             9    99  \n",
       "\n",
       "[5 rows x 281 columns]"
      ]
     },
     "execution_count": 148,
     "metadata": {},
     "output_type": "execute_result"
    }
   ],
   "source": [
    "data = pd.read_csv(\"PPCS_2020/38320-0001-Data.csv\", index_col = 0, low_memory=False) # Load the data\n",
    "data[\"SCRMCTRL\"] = data[\"SCRMCTRL\"].astype(\"string\") # Fix the datatype in the first columns\n",
    "data.head()"
   ]
  },
  {
   "cell_type": "markdown",
   "metadata": {},
   "source": [
    "When data is coded as \"out of universe\" (usually coded as `9` or `99`) that means it doesn't apply to the case in question. For example, V23T asks:\n",
    "> Have you been pulled over by the police while driving a motor vehicle, NOT including any driving violations captured by camera and ticketed by mail? \n",
    "\n",
    "If the respondent answered \"no\" to this question, then the follow-up question V23U \n",
    "> How many times did this happen during the past 12 months?\n",
    "\n",
    "is coded as \"out of universe.\"  The following questions will be based on the PPCCS data and codebook.\n",
    "\n",
    "5. How many records are included in the PPCS?  If you obtain this number from the codebook, verify that the number of records indicated by the codebook match the number of records in `data` by getting the number of rows."
   ]
  },
  {
   "cell_type": "code",
   "execution_count": null,
   "metadata": {},
   "outputs": [],
   "source": []
  },
  {
   "cell_type": "markdown",
   "metadata": {},
   "source": [
    "6. How many unique households are included in the PPCS?"
   ]
  },
  {
   "cell_type": "code",
   "execution_count": null,
   "metadata": {
    "id": "p-INRMsBsLne"
   },
   "outputs": [],
   "source": []
  },
  {
   "cell_type": "markdown",
   "metadata": {},
   "source": [
    "7. The column \"INTTYPE\" gives the type of interview for each record.  Recall from our readings on _Data Diplomacy_ that there are many reasons that communities/individuals can feel compelled to participate in data collection or not. Find the number of records marked as \"PPCS Noninterview\". Exploring the data, can you see any systematic bias in terms of who was not interviewed and why?  Can you think of other reasons that individuals or households might have chosen not to respond?"
   ]
  },
  {
   "cell_type": "code",
   "execution_count": null,
   "metadata": {},
   "outputs": [],
   "source": []
  },
  {
   "cell_type": "markdown",
   "metadata": {},
   "source": [
    "8. Define a new dataframe, call it `data_male`, which is a slice of the original dataframe where respondents are coded as Male. "
   ]
  },
  {
   "cell_type": "code",
   "execution_count": null,
   "metadata": {},
   "outputs": [],
   "source": []
  },
  {
   "cell_type": "markdown",
   "metadata": {},
   "source": [
    "9. Using `data_male` and the `value_counts()` function, determine how many male repondents were stopped 3 or more times by police but not in a moving vehicle in the last 12 months.  _hint: this corresponds to item V24A in the codebook._"
   ]
  },
  {
   "cell_type": "code",
   "execution_count": null,
   "metadata": {},
   "outputs": [],
   "source": []
  },
  {
   "cell_type": "markdown",
   "metadata": {
    "id": "rguR7SBM26JE"
   },
   "source": [
    "10. Recall from our reading of _Data Feminism_ that \"what gets counted counts.\" Based on what you see in this data, and based on what you can read in the codebook and supplementary materials, are there any populations that you think aren't being represented in this survey?  Why do you think that's happening?  What do you think could be done differently to make sure these populations are represented?"
   ]
  },
  {
   "cell_type": "code",
   "execution_count": null,
   "metadata": {},
   "outputs": [],
   "source": []
  }
 ],
 "metadata": {
  "colab": {
   "provenance": [
    {
     "file_id": "1CAP_k6HF88O-19wngS_5x2KN7Sfiwypo",
     "timestamp": 1674507068138
    }
   ]
  },
  "kernelspec": {
   "display_name": "Python 3 (ipykernel)",
   "language": "python",
   "name": "python3"
  },
  "language_info": {
   "codemirror_mode": {
    "name": "ipython",
    "version": 3
   },
   "file_extension": ".py",
   "mimetype": "text/x-python",
   "name": "python",
   "nbconvert_exporter": "python",
   "pygments_lexer": "ipython3",
   "version": "3.10.9"
  }
 },
 "nbformat": 4,
 "nbformat_minor": 1
}
